{
 "cells": [
  {
   "cell_type": "code",
   "execution_count": 42,
   "id": "1fafe068",
   "metadata": {},
   "outputs": [],
   "source": [
    "import warnings\n",
    "warnings.filterwarnings(\"ignore\")\n",
    "import pandas as pd \n",
    "import numpy as np\n",
    "import matplotlib.pyplot as plt\n",
    "import mysql.connector as sql\n",
    "from sqlalchemy import create_engine\n",
    "c= sql.connect(host = 'localhost',\n",
    "               database = 'live_case',\n",
    "               user='root',\n",
    "               password = 'Safo3825#',\n",
    "              auth_plugin='mysql_native_password')"
   ]
  },
  {
   "cell_type": "code",
   "execution_count": 43,
   "id": "0e247971",
   "metadata": {},
   "outputs": [],
   "source": [
    "media_df_1 = pd.read_excel('Second_Harvest_Heartland__News_and_Broadcast_May2021_April2022.xlsx', )"
   ]
  },
  {
   "cell_type": "code",
   "execution_count": 44,
   "id": "b0dec2f1",
   "metadata": {},
   "outputs": [],
   "source": [
    "media_df_2 = pd.read_excel('Second_Harvest_Heartland__News_and_Broadcast_May 2020_April 2021.xlsx', )"
   ]
  },
  {
   "cell_type": "code",
   "execution_count": 45,
   "id": "35206cd1",
   "metadata": {},
   "outputs": [],
   "source": [
    "media_df_1.rename(columns = {' AVE ':'AVE'}, inplace = True)"
   ]
  },
  {
   "cell_type": "code",
   "execution_count": 46,
   "id": "8175e0f8",
   "metadata": {},
   "outputs": [
    {
     "data": {
      "text/plain": [
       "(1590, 20)"
      ]
     },
     "execution_count": 46,
     "metadata": {},
     "output_type": "execute_result"
    }
   ],
   "source": [
    "media_df_2.shape"
   ]
  },
  {
   "cell_type": "code",
   "execution_count": 47,
   "id": "e820d6b3",
   "metadata": {},
   "outputs": [
    {
     "data": {
      "text/plain": [
       "0       147988.41\n",
       "1         3944.66\n",
       "2          294.46\n",
       "3         3944.66\n",
       "4         1662.16\n",
       "          ...    \n",
       "1585      1188.63\n",
       "1586       365.44\n",
       "1587       115.87\n",
       "1588        57.94\n",
       "1589       144.94\n",
       "Name: AVE, Length: 1590, dtype: float64"
      ]
     },
     "execution_count": 47,
     "metadata": {},
     "output_type": "execute_result"
    }
   ],
   "source": [
    "media_df_2['AVE']"
   ]
  },
  {
   "cell_type": "code",
   "execution_count": 48,
   "id": "b4e91d31",
   "metadata": {},
   "outputs": [],
   "source": [
    "media_df = pd.concat([media_df_1,media_df_2])"
   ]
  },
  {
   "cell_type": "code",
   "execution_count": 49,
   "id": "83347cb8",
   "metadata": {},
   "outputs": [
    {
     "data": {
      "text/plain": [
       "(2850, 20)"
      ]
     },
     "execution_count": 49,
     "metadata": {},
     "output_type": "execute_result"
    }
   ],
   "source": [
    "media_df.shape"
   ]
  },
  {
   "cell_type": "code",
   "execution_count": 50,
   "id": "13229ca6",
   "metadata": {},
   "outputs": [
    {
     "data": {
      "text/html": [
       "<div>\n",
       "<style scoped>\n",
       "    .dataframe tbody tr th:only-of-type {\n",
       "        vertical-align: middle;\n",
       "    }\n",
       "\n",
       "    .dataframe tbody tr th {\n",
       "        vertical-align: top;\n",
       "    }\n",
       "\n",
       "    .dataframe thead th {\n",
       "        text-align: right;\n",
       "    }\n",
       "</style>\n",
       "<table border=\"1\" class=\"dataframe\">\n",
       "  <thead>\n",
       "    <tr style=\"text-align: right;\">\n",
       "      <th></th>\n",
       "      <th>Date</th>\n",
       "      <th>Headline</th>\n",
       "      <th>URL</th>\n",
       "      <th>Hit Sentence</th>\n",
       "      <th>Source</th>\n",
       "      <th>Influencer</th>\n",
       "      <th>Country</th>\n",
       "      <th>Reach</th>\n",
       "      <th>Desktop Reach</th>\n",
       "      <th>Mobile Reach</th>\n",
       "      <th>Twitter Social Echo</th>\n",
       "      <th>Facebook Social Echo</th>\n",
       "      <th>Reddit Social Echo</th>\n",
       "      <th>AVE</th>\n",
       "      <th>Sentiment</th>\n",
       "      <th>Key Phrases</th>\n",
       "      <th>Input Name</th>\n",
       "      <th>Time</th>\n",
       "      <th>State</th>\n",
       "      <th>City</th>\n",
       "    </tr>\n",
       "  </thead>\n",
       "  <tbody>\n",
       "    <tr>\n",
       "      <th>0</th>\n",
       "      <td>29-Apr-2022 03:28PM</td>\n",
       "      <td>How did Gov. Tim Walz use a chunk of the pande...</td>\n",
       "      <td>https://www.minnpost.com/race-health-equity/20...</td>\n",
       "      <td>$3 million\\n\\nto combat food insecurity. Funds...</td>\n",
       "      <td>MinnPost</td>\n",
       "      <td>Ava Kian</td>\n",
       "      <td>United States</td>\n",
       "      <td>432262</td>\n",
       "      <td>139977</td>\n",
       "      <td>292285</td>\n",
       "      <td>5</td>\n",
       "      <td>22</td>\n",
       "      <td>0</td>\n",
       "      <td>3998.42</td>\n",
       "      <td>Neutral</td>\n",
       "      <td>American Rescue Plan funding,CARES funds,CDC s...</td>\n",
       "      <td>Second Harvest Heartland | News</td>\n",
       "      <td>15:28:00</td>\n",
       "      <td>Minnesota</td>\n",
       "      <td>Minneapolis</td>\n",
       "    </tr>\n",
       "    <tr>\n",
       "      <th>1</th>\n",
       "      <td>27-Apr-2022 09:13PM</td>\n",
       "      <td>Child poverty vs. plutocratic plenty</td>\n",
       "      <td>https://duluthreader.com/articles/2022/04/27/1...</td>\n",
       "      <td>women.”\\n\\nMessage to the Minnesota Republican...</td>\n",
       "      <td>Duluth Reader</td>\n",
       "      <td>Ed Raymond's work</td>\n",
       "      <td>United States</td>\n",
       "      <td>8306</td>\n",
       "      <td>2960</td>\n",
       "      <td>5346</td>\n",
       "      <td>1</td>\n",
       "      <td>0</td>\n",
       "      <td>0</td>\n",
       "      <td>76.83</td>\n",
       "      <td>Neutral</td>\n",
       "      <td>14th century,20th century women,American women...</td>\n",
       "      <td>Second Harvest Heartland | News</td>\n",
       "      <td>21:13:00</td>\n",
       "      <td>Minnesota</td>\n",
       "      <td>Duluth</td>\n",
       "    </tr>\n",
       "    <tr>\n",
       "      <th>2</th>\n",
       "      <td>27-Apr-2022 09:16AM</td>\n",
       "      <td>Second Harvest Heartland volunteers making a d...</td>\n",
       "      <td>https://www.kare11.com/article/news/local/kare...</td>\n",
       "      <td>, explained\\n\\nSecond Harvest Heartland\\n\\n's ...</td>\n",
       "      <td>KARE-TV</td>\n",
       "      <td>Shelley Stridsberg</td>\n",
       "      <td>United States</td>\n",
       "      <td>1178357</td>\n",
       "      <td>381530</td>\n",
       "      <td>796827</td>\n",
       "      <td>1</td>\n",
       "      <td>0</td>\n",
       "      <td>0</td>\n",
       "      <td>10899.8</td>\n",
       "      <td>Neutral</td>\n",
       "      <td>KARE 11 partner,Second Harvest Heartland,backb...</td>\n",
       "      <td>Second Harvest Heartland | News</td>\n",
       "      <td>09:16:00</td>\n",
       "      <td>Minnesota</td>\n",
       "      <td>Golden Valley</td>\n",
       "    </tr>\n",
       "    <tr>\n",
       "      <th>3</th>\n",
       "      <td>27-Apr-2022 06:58AM</td>\n",
       "      <td>Second Harvest Heartland raises money for hung...</td>\n",
       "      <td>https://www.kare11.com/video/news/local/kare11...</td>\n",
       "      <td>Second Harvest Heartland raises money for hung...</td>\n",
       "      <td>KARE-TV</td>\n",
       "      <td>NaN</td>\n",
       "      <td>United States</td>\n",
       "      <td>1178357</td>\n",
       "      <td>381530</td>\n",
       "      <td>796827</td>\n",
       "      <td>0</td>\n",
       "      <td>0</td>\n",
       "      <td>0</td>\n",
       "      <td>10899.8</td>\n",
       "      <td>Negative</td>\n",
       "      <td>Second Harvest Heartland,hungry Minnesotans,money</td>\n",
       "      <td>Second Harvest Heartland | News</td>\n",
       "      <td>06:58:00</td>\n",
       "      <td>Minnesota</td>\n",
       "      <td>Golden Valley</td>\n",
       "    </tr>\n",
       "    <tr>\n",
       "      <th>4</th>\n",
       "      <td>26-Apr-2022 11:00PM</td>\n",
       "      <td>Franklin &amp; Marshall: Grads to Gather at May 14...</td>\n",
       "      <td>proquest:publicid-2655546418</td>\n",
       "      <td>launch of the Milwaukee Bucks Foundation. O'To...</td>\n",
       "      <td>Targeted News Service (Print Edition)</td>\n",
       "      <td>NaN</td>\n",
       "      <td>United States</td>\n",
       "      <td>1167</td>\n",
       "      <td>450</td>\n",
       "      <td>717</td>\n",
       "      <td>0</td>\n",
       "      <td>0</td>\n",
       "      <td>0</td>\n",
       "      <td>10.79</td>\n",
       "      <td>Neutral</td>\n",
       "      <td>93.A professor,Faculty and College leadership,...</td>\n",
       "      <td>Second Harvest Heartland | News</td>\n",
       "      <td>23:00:00</td>\n",
       "      <td>Virginia</td>\n",
       "      <td>Springfield</td>\n",
       "    </tr>\n",
       "  </tbody>\n",
       "</table>\n",
       "</div>"
      ],
      "text/plain": [
       "                  Date                                           Headline  \\\n",
       "0  29-Apr-2022 03:28PM  How did Gov. Tim Walz use a chunk of the pande...   \n",
       "1  27-Apr-2022 09:13PM               Child poverty vs. plutocratic plenty   \n",
       "2  27-Apr-2022 09:16AM  Second Harvest Heartland volunteers making a d...   \n",
       "3  27-Apr-2022 06:58AM  Second Harvest Heartland raises money for hung...   \n",
       "4  26-Apr-2022 11:00PM  Franklin & Marshall: Grads to Gather at May 14...   \n",
       "\n",
       "                                                 URL  \\\n",
       "0  https://www.minnpost.com/race-health-equity/20...   \n",
       "1  https://duluthreader.com/articles/2022/04/27/1...   \n",
       "2  https://www.kare11.com/article/news/local/kare...   \n",
       "3  https://www.kare11.com/video/news/local/kare11...   \n",
       "4                       proquest:publicid-2655546418   \n",
       "\n",
       "                                        Hit Sentence  \\\n",
       "0  $3 million\\n\\nto combat food insecurity. Funds...   \n",
       "1  women.”\\n\\nMessage to the Minnesota Republican...   \n",
       "2  , explained\\n\\nSecond Harvest Heartland\\n\\n's ...   \n",
       "3  Second Harvest Heartland raises money for hung...   \n",
       "4  launch of the Milwaukee Bucks Foundation. O'To...   \n",
       "\n",
       "                                  Source          Influencer        Country  \\\n",
       "0                               MinnPost            Ava Kian  United States   \n",
       "1                          Duluth Reader   Ed Raymond's work  United States   \n",
       "2                                KARE-TV  Shelley Stridsberg  United States   \n",
       "3                                KARE-TV                 NaN  United States   \n",
       "4  Targeted News Service (Print Edition)                 NaN  United States   \n",
       "\n",
       "     Reach  Desktop Reach  Mobile Reach  Twitter Social Echo  \\\n",
       "0   432262         139977        292285                    5   \n",
       "1     8306           2960          5346                    1   \n",
       "2  1178357         381530        796827                    1   \n",
       "3  1178357         381530        796827                    0   \n",
       "4     1167            450           717                    0   \n",
       "\n",
       "   Facebook Social Echo  Reddit Social Echo      AVE Sentiment  \\\n",
       "0                    22                   0  3998.42   Neutral   \n",
       "1                     0                   0    76.83   Neutral   \n",
       "2                     0                   0  10899.8   Neutral   \n",
       "3                     0                   0  10899.8  Negative   \n",
       "4                     0                   0    10.79   Neutral   \n",
       "\n",
       "                                         Key Phrases  \\\n",
       "0  American Rescue Plan funding,CARES funds,CDC s...   \n",
       "1  14th century,20th century women,American women...   \n",
       "2  KARE 11 partner,Second Harvest Heartland,backb...   \n",
       "3  Second Harvest Heartland,hungry Minnesotans,money   \n",
       "4  93.A professor,Faculty and College leadership,...   \n",
       "\n",
       "                        Input Name      Time      State           City  \n",
       "0  Second Harvest Heartland | News  15:28:00  Minnesota    Minneapolis  \n",
       "1  Second Harvest Heartland | News  21:13:00  Minnesota         Duluth  \n",
       "2  Second Harvest Heartland | News  09:16:00  Minnesota  Golden Valley  \n",
       "3  Second Harvest Heartland | News  06:58:00  Minnesota  Golden Valley  \n",
       "4  Second Harvest Heartland | News  23:00:00   Virginia    Springfield  "
      ]
     },
     "execution_count": 50,
     "metadata": {},
     "output_type": "execute_result"
    }
   ],
   "source": [
    "media_df.head()"
   ]
  },
  {
   "cell_type": "code",
   "execution_count": 51,
   "id": "528e9bb2",
   "metadata": {},
   "outputs": [
    {
     "data": {
      "text/plain": [
       "array(['United States', 'Canada', 'India', 'United Kingdom', 'Romania',\n",
       "       'Australia', 'Switzerland', 'Norway', 'New Zealand',\n",
       "       'South Africa', 'Liberia', 'Netherlands', 'Mexico',\n",
       "       'United Arab Emirates', 'Italy', 'Singapore'], dtype=object)"
      ]
     },
     "execution_count": 51,
     "metadata": {},
     "output_type": "execute_result"
    }
   ],
   "source": [
    "media_df['Country'].unique()"
   ]
  },
  {
   "cell_type": "code",
   "execution_count": 55,
   "id": "804d8a23",
   "metadata": {},
   "outputs": [],
   "source": [
    "donation_df = pd.read_excel(\"Gift Data File - SHH.xlsx\")"
   ]
  },
  {
   "cell_type": "code",
   "execution_count": 60,
   "id": "3c079fac",
   "metadata": {},
   "outputs": [],
   "source": [
    "## delete recurring gift since it is not relevant in problem context\n",
    "\n",
    "donation_df=donation_df.loc[donation_df['Gift Type']!='Recurring Gift']"
   ]
  },
  {
   "cell_type": "code",
   "execution_count": 62,
   "id": "04c7f4c1",
   "metadata": {},
   "outputs": [
    {
     "data": {
      "text/plain": [
       "count    238371.000000\n",
       "mean         37.938784\n",
       "std         221.495158\n",
       "min           1.000000\n",
       "25%           3.000000\n",
       "50%          10.000000\n",
       "75%          25.000000\n",
       "max        8033.000000\n",
       "Name: Lifetime # of Gifts, dtype: float64"
      ]
     },
     "execution_count": 62,
     "metadata": {},
     "output_type": "execute_result"
    }
   ],
   "source": [
    "donation_df['Lifetime # of Gifts'].describe()"
   ]
  },
  {
   "cell_type": "code",
   "execution_count": 63,
   "id": "fb44c472",
   "metadata": {},
   "outputs": [
    {
     "data": {
      "text/html": [
       "<div>\n",
       "<style scoped>\n",
       "    .dataframe tbody tr th:only-of-type {\n",
       "        vertical-align: middle;\n",
       "    }\n",
       "\n",
       "    .dataframe tbody tr th {\n",
       "        vertical-align: top;\n",
       "    }\n",
       "\n",
       "    .dataframe thead th {\n",
       "        text-align: right;\n",
       "    }\n",
       "</style>\n",
       "<table border=\"1\" class=\"dataframe\">\n",
       "  <thead>\n",
       "    <tr style=\"text-align: right;\">\n",
       "      <th></th>\n",
       "      <th>Date</th>\n",
       "      <th>Amount</th>\n",
       "      <th>pct</th>\n",
       "    </tr>\n",
       "    <tr>\n",
       "      <th>Donor ID</th>\n",
       "      <th></th>\n",
       "      <th></th>\n",
       "      <th></th>\n",
       "    </tr>\n",
       "  </thead>\n",
       "  <tbody>\n",
       "    <tr>\n",
       "      <th>457989</th>\n",
       "      <td>281</td>\n",
       "      <td>1371438.47</td>\n",
       "      <td>1.635280</td>\n",
       "    </tr>\n",
       "    <tr>\n",
       "      <th>125656</th>\n",
       "      <td>150</td>\n",
       "      <td>249896.34</td>\n",
       "      <td>0.297972</td>\n",
       "    </tr>\n",
       "    <tr>\n",
       "      <th>210994</th>\n",
       "      <td>138</td>\n",
       "      <td>189045.00</td>\n",
       "      <td>0.225414</td>\n",
       "    </tr>\n",
       "    <tr>\n",
       "      <th>393030</th>\n",
       "      <td>131</td>\n",
       "      <td>550810.47</td>\n",
       "      <td>0.656777</td>\n",
       "    </tr>\n",
       "    <tr>\n",
       "      <th>333964</th>\n",
       "      <td>105</td>\n",
       "      <td>6150.00</td>\n",
       "      <td>0.007333</td>\n",
       "    </tr>\n",
       "    <tr>\n",
       "      <th>...</th>\n",
       "      <td>...</td>\n",
       "      <td>...</td>\n",
       "      <td>...</td>\n",
       "    </tr>\n",
       "    <tr>\n",
       "      <th>329072</th>\n",
       "      <td>1</td>\n",
       "      <td>50.00</td>\n",
       "      <td>0.000060</td>\n",
       "    </tr>\n",
       "    <tr>\n",
       "      <th>329087</th>\n",
       "      <td>1</td>\n",
       "      <td>1000.00</td>\n",
       "      <td>0.001192</td>\n",
       "    </tr>\n",
       "    <tr>\n",
       "      <th>329088</th>\n",
       "      <td>1</td>\n",
       "      <td>431.50</td>\n",
       "      <td>0.000515</td>\n",
       "    </tr>\n",
       "    <tr>\n",
       "      <th>329090</th>\n",
       "      <td>1</td>\n",
       "      <td>100.00</td>\n",
       "      <td>0.000119</td>\n",
       "    </tr>\n",
       "    <tr>\n",
       "      <th>486787</th>\n",
       "      <td>1</td>\n",
       "      <td>50.00</td>\n",
       "      <td>0.000060</td>\n",
       "    </tr>\n",
       "  </tbody>\n",
       "</table>\n",
       "<p>97193 rows × 3 columns</p>\n",
       "</div>"
      ],
      "text/plain": [
       "          Date      Amount       pct\n",
       "Donor ID                            \n",
       "457989     281  1371438.47  1.635280\n",
       "125656     150   249896.34  0.297972\n",
       "210994     138   189045.00  0.225414\n",
       "393030     131   550810.47  0.656777\n",
       "333964     105     6150.00  0.007333\n",
       "...        ...         ...       ...\n",
       "329072       1       50.00  0.000060\n",
       "329087       1     1000.00  0.001192\n",
       "329088       1      431.50  0.000515\n",
       "329090       1      100.00  0.000119\n",
       "486787       1       50.00  0.000060\n",
       "\n",
       "[97193 rows x 3 columns]"
      ]
     },
     "execution_count": 63,
     "metadata": {},
     "output_type": "execute_result"
    }
   ],
   "source": [
    "g= donation_df.groupby(\"Donor ID\").agg({'Date':'nunique','Amount':'sum'}).sort_values('Date',ascending=False)\n",
    "g['pct'] = g['Amount']*100/ g['Amount'].sum()\n",
    "g[g['Date'] >= 12]['pct'].sum()\n",
    "g"
   ]
  },
  {
   "cell_type": "code",
   "execution_count": 64,
   "id": "72d82d80",
   "metadata": {},
   "outputs": [
    {
     "data": {
      "text/plain": [
       "Donor ID\n",
       "457989    940\n",
       "393030    512\n",
       "125656    382\n",
       "163883    300\n",
       "109771    204\n",
       "         ... \n",
       "329631      1\n",
       "329659      1\n",
       "329673      1\n",
       "329681      1\n",
       "486787      1\n",
       "Name: Date, Length: 97193, dtype: int64"
      ]
     },
     "execution_count": 64,
     "metadata": {},
     "output_type": "execute_result"
    }
   ],
   "source": [
    "donation_df.groupby(\"Donor ID\").count()['Date'].sort_values(ascending=False)"
   ]
  },
  {
   "cell_type": "code",
   "execution_count": 65,
   "id": "b5e72159",
   "metadata": {},
   "outputs": [],
   "source": [
    "donor_count = donation_df.groupby(\"Donor ID\").count()['Date'].sort_values(ascending=False)"
   ]
  },
  {
   "cell_type": "code",
   "execution_count": 66,
   "id": "8401d695",
   "metadata": {},
   "outputs": [],
   "source": [
    "donation_df=donation_df[(donation_df['Gf_Apls_1_01_ApAtrCat_2_01_Description']!=\"Corporate\")&\n",
    "            (donation_df['Gf_Apls_1_01_ApAtrCat_2_01_Description']!=\"Community Engagement\")&\n",
    "            (donation_df['Gf_Apls_1_01_ApAtrCat_2_01_Description']!= \"Special Events\")]"
   ]
  },
  {
   "cell_type": "code",
   "execution_count": 67,
   "id": "84b159b7",
   "metadata": {},
   "outputs": [
    {
     "data": {
      "text/html": [
       "<div>\n",
       "<style scoped>\n",
       "    .dataframe tbody tr th:only-of-type {\n",
       "        vertical-align: middle;\n",
       "    }\n",
       "\n",
       "    .dataframe tbody tr th {\n",
       "        vertical-align: top;\n",
       "    }\n",
       "\n",
       "    .dataframe thead th {\n",
       "        text-align: right;\n",
       "    }\n",
       "</style>\n",
       "<table border=\"1\" class=\"dataframe\">\n",
       "  <thead>\n",
       "    <tr style=\"text-align: right;\">\n",
       "      <th></th>\n",
       "      <th>Date</th>\n",
       "      <th>Amount</th>\n",
       "      <th>Gift ID</th>\n",
       "      <th>Payment Method</th>\n",
       "      <th>Gift Type</th>\n",
       "      <th>Fund</th>\n",
       "      <th>Donor ID</th>\n",
       "      <th>Key Indicator</th>\n",
       "      <th>Donor Zip Code</th>\n",
       "      <th>Gf_Apls_1_01_ApAtrCat_2_01_Description</th>\n",
       "      <th>Lifetime # of Gifts</th>\n",
       "      <th>First Gift Date</th>\n",
       "      <th>First Gift Amt</th>\n",
       "      <th>Last Gift Date</th>\n",
       "      <th>Last Gift Amt</th>\n",
       "    </tr>\n",
       "  </thead>\n",
       "  <tbody>\n",
       "    <tr>\n",
       "      <th>2</th>\n",
       "      <td>2021-05-25</td>\n",
       "      <td>0.01</td>\n",
       "      <td>rev-11684615</td>\n",
       "      <td>Other</td>\n",
       "      <td>Cash</td>\n",
       "      <td>Unrestricted</td>\n",
       "      <td>125656</td>\n",
       "      <td>I</td>\n",
       "      <td>31907-1355</td>\n",
       "      <td>Direct Marketing</td>\n",
       "      <td>959</td>\n",
       "      <td>2020-10-05</td>\n",
       "      <td>10.00</td>\n",
       "      <td>2021-09-30</td>\n",
       "      <td>32.0</td>\n",
       "    </tr>\n",
       "    <tr>\n",
       "      <th>6</th>\n",
       "      <td>2021-04-28</td>\n",
       "      <td>0.50</td>\n",
       "      <td>rev-11671678</td>\n",
       "      <td>Cash</td>\n",
       "      <td>Cash</td>\n",
       "      <td>Unrestricted</td>\n",
       "      <td>125656</td>\n",
       "      <td>I</td>\n",
       "      <td>31907-1355</td>\n",
       "      <td>Direct Marketing</td>\n",
       "      <td>959</td>\n",
       "      <td>2020-10-05</td>\n",
       "      <td>10.00</td>\n",
       "      <td>2021-09-30</td>\n",
       "      <td>32.0</td>\n",
       "    </tr>\n",
       "    <tr>\n",
       "      <th>7</th>\n",
       "      <td>2020-09-10</td>\n",
       "      <td>1.00</td>\n",
       "      <td>rev-11511171</td>\n",
       "      <td>Cash</td>\n",
       "      <td>Cash</td>\n",
       "      <td>Unrestricted</td>\n",
       "      <td>445445</td>\n",
       "      <td>I</td>\n",
       "      <td>55414-1210</td>\n",
       "      <td>Direct Marketing</td>\n",
       "      <td>5</td>\n",
       "      <td>2020-09-10</td>\n",
       "      <td>1.00</td>\n",
       "      <td>2021-09-15</td>\n",
       "      <td>1.0</td>\n",
       "    </tr>\n",
       "    <tr>\n",
       "      <th>8</th>\n",
       "      <td>2020-09-30</td>\n",
       "      <td>1.00</td>\n",
       "      <td>rev-11522557</td>\n",
       "      <td>Cash</td>\n",
       "      <td>Cash</td>\n",
       "      <td>Unrestricted</td>\n",
       "      <td>332636</td>\n",
       "      <td>I</td>\n",
       "      <td>NaN</td>\n",
       "      <td>Direct Marketing</td>\n",
       "      <td>1</td>\n",
       "      <td>2020-09-30</td>\n",
       "      <td>1.00</td>\n",
       "      <td>2020-09-30</td>\n",
       "      <td>1.0</td>\n",
       "    </tr>\n",
       "    <tr>\n",
       "      <th>9</th>\n",
       "      <td>2020-09-30</td>\n",
       "      <td>1.00</td>\n",
       "      <td>rev-11522553</td>\n",
       "      <td>Cash</td>\n",
       "      <td>Cash</td>\n",
       "      <td>Unrestricted</td>\n",
       "      <td>447224</td>\n",
       "      <td>I</td>\n",
       "      <td>55401-1938</td>\n",
       "      <td>Direct Marketing</td>\n",
       "      <td>1</td>\n",
       "      <td>2020-09-30</td>\n",
       "      <td>1.00</td>\n",
       "      <td>2020-09-30</td>\n",
       "      <td>1.0</td>\n",
       "    </tr>\n",
       "    <tr>\n",
       "      <th>...</th>\n",
       "      <td>...</td>\n",
       "      <td>...</td>\n",
       "      <td>...</td>\n",
       "      <td>...</td>\n",
       "      <td>...</td>\n",
       "      <td>...</td>\n",
       "      <td>...</td>\n",
       "      <td>...</td>\n",
       "      <td>...</td>\n",
       "      <td>...</td>\n",
       "      <td>...</td>\n",
       "      <td>...</td>\n",
       "      <td>...</td>\n",
       "      <td>...</td>\n",
       "      <td>...</td>\n",
       "    </tr>\n",
       "    <tr>\n",
       "      <th>244352</th>\n",
       "      <td>2022-04-30</td>\n",
       "      <td>30.00</td>\n",
       "      <td>97336953</td>\n",
       "      <td>Credit Card</td>\n",
       "      <td>Cash</td>\n",
       "      <td>Unrestricted</td>\n",
       "      <td>30464</td>\n",
       "      <td>I</td>\n",
       "      <td>55423-1348</td>\n",
       "      <td>Direct Marketing</td>\n",
       "      <td>29</td>\n",
       "      <td>2007-12-07</td>\n",
       "      <td>22.00</td>\n",
       "      <td>2022-02-10</td>\n",
       "      <td>50.0</td>\n",
       "    </tr>\n",
       "    <tr>\n",
       "      <th>244353</th>\n",
       "      <td>2022-04-30</td>\n",
       "      <td>50.00</td>\n",
       "      <td>97336954</td>\n",
       "      <td>Credit Card</td>\n",
       "      <td>Cash</td>\n",
       "      <td>Unrestricted</td>\n",
       "      <td>84739</td>\n",
       "      <td>I</td>\n",
       "      <td>55082-5591</td>\n",
       "      <td>Direct Marketing</td>\n",
       "      <td>194</td>\n",
       "      <td>1996-11-13</td>\n",
       "      <td>20.00</td>\n",
       "      <td>2022-02-02</td>\n",
       "      <td>200.0</td>\n",
       "    </tr>\n",
       "    <tr>\n",
       "      <th>244354</th>\n",
       "      <td>2022-04-22</td>\n",
       "      <td>117.00</td>\n",
       "      <td>97336955</td>\n",
       "      <td>Other</td>\n",
       "      <td>Cash</td>\n",
       "      <td>Unrestricted</td>\n",
       "      <td>457989</td>\n",
       "      <td>O</td>\n",
       "      <td>29492-7541</td>\n",
       "      <td>Individual &amp; Corporate Major</td>\n",
       "      <td>944</td>\n",
       "      <td>2020-11-20</td>\n",
       "      <td>100.00</td>\n",
       "      <td>2022-05-03</td>\n",
       "      <td>1069.8</td>\n",
       "    </tr>\n",
       "    <tr>\n",
       "      <th>244355</th>\n",
       "      <td>2022-04-22</td>\n",
       "      <td>117.00</td>\n",
       "      <td>97336956</td>\n",
       "      <td>Other</td>\n",
       "      <td>Cash</td>\n",
       "      <td>Unrestricted</td>\n",
       "      <td>457989</td>\n",
       "      <td>O</td>\n",
       "      <td>29492-7541</td>\n",
       "      <td>Individual &amp; Corporate Major</td>\n",
       "      <td>944</td>\n",
       "      <td>2020-11-20</td>\n",
       "      <td>100.00</td>\n",
       "      <td>2022-05-03</td>\n",
       "      <td>1069.8</td>\n",
       "    </tr>\n",
       "    <tr>\n",
       "      <th>244356</th>\n",
       "      <td>2022-04-05</td>\n",
       "      <td>50.00</td>\n",
       "      <td>97336957</td>\n",
       "      <td>Other</td>\n",
       "      <td>Cash</td>\n",
       "      <td>Unrestricted</td>\n",
       "      <td>393030</td>\n",
       "      <td>O</td>\n",
       "      <td>08543-7174</td>\n",
       "      <td>Individual &amp; Corporate Major</td>\n",
       "      <td>673</td>\n",
       "      <td>2018-09-07</td>\n",
       "      <td>2026.96</td>\n",
       "      <td>2022-04-28</td>\n",
       "      <td>2427.2</td>\n",
       "    </tr>\n",
       "  </tbody>\n",
       "</table>\n",
       "<p>222240 rows × 15 columns</p>\n",
       "</div>"
      ],
      "text/plain": [
       "             Date  Amount       Gift ID Payment Method Gift Type  \\\n",
       "2      2021-05-25    0.01  rev-11684615          Other      Cash   \n",
       "6      2021-04-28    0.50  rev-11671678           Cash      Cash   \n",
       "7      2020-09-10    1.00  rev-11511171           Cash      Cash   \n",
       "8      2020-09-30    1.00  rev-11522557           Cash      Cash   \n",
       "9      2020-09-30    1.00  rev-11522553           Cash      Cash   \n",
       "...           ...     ...           ...            ...       ...   \n",
       "244352 2022-04-30   30.00      97336953    Credit Card      Cash   \n",
       "244353 2022-04-30   50.00      97336954    Credit Card      Cash   \n",
       "244354 2022-04-22  117.00      97336955          Other      Cash   \n",
       "244355 2022-04-22  117.00      97336956          Other      Cash   \n",
       "244356 2022-04-05   50.00      97336957          Other      Cash   \n",
       "\n",
       "                Fund  Donor ID Key Indicator Donor Zip Code  \\\n",
       "2       Unrestricted    125656             I     31907-1355   \n",
       "6       Unrestricted    125656             I     31907-1355   \n",
       "7       Unrestricted    445445             I     55414-1210   \n",
       "8       Unrestricted    332636             I            NaN   \n",
       "9       Unrestricted    447224             I     55401-1938   \n",
       "...              ...       ...           ...            ...   \n",
       "244352  Unrestricted     30464             I     55423-1348   \n",
       "244353  Unrestricted     84739             I     55082-5591   \n",
       "244354  Unrestricted    457989             O     29492-7541   \n",
       "244355  Unrestricted    457989             O     29492-7541   \n",
       "244356  Unrestricted    393030             O     08543-7174   \n",
       "\n",
       "       Gf_Apls_1_01_ApAtrCat_2_01_Description  Lifetime # of Gifts  \\\n",
       "2                            Direct Marketing                  959   \n",
       "6                            Direct Marketing                  959   \n",
       "7                            Direct Marketing                    5   \n",
       "8                            Direct Marketing                    1   \n",
       "9                            Direct Marketing                    1   \n",
       "...                                       ...                  ...   \n",
       "244352                       Direct Marketing                   29   \n",
       "244353                       Direct Marketing                  194   \n",
       "244354           Individual & Corporate Major                  944   \n",
       "244355           Individual & Corporate Major                  944   \n",
       "244356           Individual & Corporate Major                  673   \n",
       "\n",
       "       First Gift Date  First Gift Amt Last Gift Date  Last Gift Amt  \n",
       "2           2020-10-05           10.00     2021-09-30           32.0  \n",
       "6           2020-10-05           10.00     2021-09-30           32.0  \n",
       "7           2020-09-10            1.00     2021-09-15            1.0  \n",
       "8           2020-09-30            1.00     2020-09-30            1.0  \n",
       "9           2020-09-30            1.00     2020-09-30            1.0  \n",
       "...                ...             ...            ...            ...  \n",
       "244352      2007-12-07           22.00     2022-02-10           50.0  \n",
       "244353      1996-11-13           20.00     2022-02-02          200.0  \n",
       "244354      2020-11-20          100.00     2022-05-03         1069.8  \n",
       "244355      2020-11-20          100.00     2022-05-03         1069.8  \n",
       "244356      2018-09-07         2026.96     2022-04-28         2427.2  \n",
       "\n",
       "[222240 rows x 15 columns]"
      ]
     },
     "execution_count": 67,
     "metadata": {},
     "output_type": "execute_result"
    }
   ],
   "source": [
    "donation_df"
   ]
  },
  {
   "cell_type": "code",
   "execution_count": 68,
   "id": "1c8ae230",
   "metadata": {},
   "outputs": [],
   "source": [
    "donation_df=donation_df[donation_df['Donor Zip Code'].str.len()==10]"
   ]
  },
  {
   "cell_type": "markdown",
   "id": "5358efbf",
   "metadata": {},
   "source": [
    "2355 people donated more than 10 times in the past two years, for business logic, \n",
    "we only consider people who donated less than 10 times"
   ]
  },
  {
   "cell_type": "code",
   "execution_count": 69,
   "id": "bde3a81b",
   "metadata": {},
   "outputs": [
    {
     "data": {
      "text/plain": [
       "(187161, 15)"
      ]
     },
     "execution_count": 69,
     "metadata": {},
     "output_type": "execute_result"
    }
   ],
   "source": [
    "donation_df=donation_df[donation_df['Donor ID'].isin(g[g['Date']<12].index)]\n",
    "donation_df.shape"
   ]
  },
  {
   "cell_type": "code",
   "execution_count": 70,
   "id": "634b7a44",
   "metadata": {},
   "outputs": [],
   "source": [
    "donation_df_sum=donation_df.groupby('Date').sum()"
   ]
  },
  {
   "cell_type": "code",
   "execution_count": 71,
   "id": "20aef6b5",
   "metadata": {},
   "outputs": [
    {
     "data": {
      "text/plain": [
       "<AxesSubplot:xlabel='Date', ylabel='Donation in Thousands(K)'>"
      ]
     },
     "execution_count": 71,
     "metadata": {},
     "output_type": "execute_result"
    },
    {
     "data": {
      "image/png": "[encoded data removed]",
      "text/plain": [
       "<Figure size 432x288 with 1 Axes>"
      ]
     },
     "metadata": {
      "needs_background": "light"
     },
     "output_type": "display_data"
    }
   ],
   "source": [
    "donation_df_sum['Amount in Thousands'] = donation_df_sum['Amount']/1000\n",
    "donation_df_sum.plot(y='Amount in Thousands', ylabel = \"Donation in Thousands(K)\",legend = False)"
   ]
  },
  {
   "cell_type": "code",
   "execution_count": 72,
   "id": "ab57fcf2",
   "metadata": {},
   "outputs": [
    {
     "data": {
      "text/plain": [
       "count     730.000000\n",
       "mean       73.400312\n",
       "std       133.773786\n",
       "min         0.380000\n",
       "25%        14.583963\n",
       "50%        36.642395\n",
       "75%        75.518990\n",
       "max      1992.007250\n",
       "Name: Amount in Thousands, dtype: float64"
      ]
     },
     "execution_count": 72,
     "metadata": {},
     "output_type": "execute_result"
    }
   ],
   "source": [
    "donation_df_sum['Amount in Thousands'].describe()"
   ]
  },
  {
   "cell_type": "code",
   "execution_count": 73,
   "id": "4a7afa05",
   "metadata": {},
   "outputs": [
    {
     "data": {
      "text/html": [
       "<div>\n",
       "<style scoped>\n",
       "    .dataframe tbody tr th:only-of-type {\n",
       "        vertical-align: middle;\n",
       "    }\n",
       "\n",
       "    .dataframe tbody tr th {\n",
       "        vertical-align: top;\n",
       "    }\n",
       "\n",
       "    .dataframe thead th {\n",
       "        text-align: right;\n",
       "    }\n",
       "</style>\n",
       "<table border=\"1\" class=\"dataframe\">\n",
       "  <thead>\n",
       "    <tr style=\"text-align: right;\">\n",
       "      <th></th>\n",
       "      <th>Date</th>\n",
       "      <th>Amount</th>\n",
       "    </tr>\n",
       "  </thead>\n",
       "  <tbody>\n",
       "    <tr>\n",
       "      <th>0</th>\n",
       "      <td>2020-05-01</td>\n",
       "      <td>83900.57</td>\n",
       "    </tr>\n",
       "    <tr>\n",
       "      <th>1</th>\n",
       "      <td>2020-05-02</td>\n",
       "      <td>27081.00</td>\n",
       "    </tr>\n",
       "    <tr>\n",
       "      <th>2</th>\n",
       "      <td>2020-05-03</td>\n",
       "      <td>41760.00</td>\n",
       "    </tr>\n",
       "    <tr>\n",
       "      <th>3</th>\n",
       "      <td>2020-05-04</td>\n",
       "      <td>205792.89</td>\n",
       "    </tr>\n",
       "    <tr>\n",
       "      <th>4</th>\n",
       "      <td>2020-05-05</td>\n",
       "      <td>130154.25</td>\n",
       "    </tr>\n",
       "    <tr>\n",
       "      <th>...</th>\n",
       "      <td>...</td>\n",
       "      <td>...</td>\n",
       "    </tr>\n",
       "    <tr>\n",
       "      <th>725</th>\n",
       "      <td>2022-04-26</td>\n",
       "      <td>41036.03</td>\n",
       "    </tr>\n",
       "    <tr>\n",
       "      <th>726</th>\n",
       "      <td>2022-04-27</td>\n",
       "      <td>387114.38</td>\n",
       "    </tr>\n",
       "    <tr>\n",
       "      <th>727</th>\n",
       "      <td>2022-04-28</td>\n",
       "      <td>26805.00</td>\n",
       "    </tr>\n",
       "    <tr>\n",
       "      <th>728</th>\n",
       "      <td>2022-04-29</td>\n",
       "      <td>24039.08</td>\n",
       "    </tr>\n",
       "    <tr>\n",
       "      <th>729</th>\n",
       "      <td>2022-04-30</td>\n",
       "      <td>45685.00</td>\n",
       "    </tr>\n",
       "  </tbody>\n",
       "</table>\n",
       "<p>730 rows × 2 columns</p>\n",
       "</div>"
      ],
      "text/plain": [
       "          Date     Amount\n",
       "0   2020-05-01   83900.57\n",
       "1   2020-05-02   27081.00\n",
       "2   2020-05-03   41760.00\n",
       "3   2020-05-04  205792.89\n",
       "4   2020-05-05  130154.25\n",
       "..         ...        ...\n",
       "725 2022-04-26   41036.03\n",
       "726 2022-04-27  387114.38\n",
       "727 2022-04-28   26805.00\n",
       "728 2022-04-29   24039.08\n",
       "729 2022-04-30   45685.00\n",
       "\n",
       "[730 rows x 2 columns]"
      ]
     },
     "execution_count": 73,
     "metadata": {},
     "output_type": "execute_result"
    }
   ],
   "source": [
    "donation_df_sum=donation_df_sum.reset_index()[['Date','Amount']]\n",
    "donation_df_sum"
   ]
  },
  {
   "cell_type": "code",
   "execution_count": 75,
   "id": "b29f4a00",
   "metadata": {},
   "outputs": [],
   "source": [
    "def media_duration(x):\n",
    "    if x =='SHH Broadcast Quality':\n",
    "        return 7\n",
    "    else:\n",
    "        return 7\n",
    "\n",
    "media_df['Media Duration']= media_df['Input Name'].apply(media_duration)"
   ]
  },
  {
   "cell_type": "code",
   "execution_count": 76,
   "id": "9dc41929",
   "metadata": {},
   "outputs": [],
   "source": [
    "media_df['Date']= pd.to_datetime(media_df['Date']).dt.date"
   ]
  },
  {
   "cell_type": "code",
   "execution_count": 77,
   "id": "857ec275",
   "metadata": {},
   "outputs": [],
   "source": [
    "media_df['Media End'] = media_df['Date'] + pd.to_timedelta(media_df['Media Duration'], unit='D')"
   ]
  },
  {
   "cell_type": "code",
   "execution_count": 79,
   "id": "f9b36da9",
   "metadata": {},
   "outputs": [
    {
     "data": {
      "text/plain": [
       "2771"
      ]
     },
     "execution_count": 79,
     "metadata": {},
     "output_type": "execute_result"
    }
   ],
   "source": [
    "# one time to sql, comment out \n",
    "engine = create_engine(\"mysql+mysqlconnector://{user}:{pw}@{host}/{db}\".format(host='localhost', \n",
    "                                                                           db='live_case', \n",
    "                                                                         user='root',\n",
    "                                                                         pw='Safo3825#'),connect_args={'auth_plugin': 'mysql_native_password'})\n",
    "media_df.to_sql('media',engine,if_exists='replace',index=False)"
   ]
  },
  {
   "cell_type": "code",
   "execution_count": 84,
   "id": "9761c0e8",
   "metadata": {},
   "outputs": [],
   "source": [
    "#Exponential function decision"
   ]
  },
  {
   "cell_type": "code",
   "execution_count": 124,
   "id": "10680cf5",
   "metadata": {},
   "outputs": [
    {
     "data": {
      "image/png": "[encoded data removed]",
      "text/plain": [
       "<Figure size 432x288 with 1 Axes>"
      ]
     },
     "metadata": {
      "needs_background": "light"
     },
     "output_type": "display_data"
    }
   ],
   "source": [
    "import math as m\n",
    "import matplotlib.pyplot as plt\n",
    "impact = 7\n",
    "exps1 = [impact]\n",
    "exps2 = [impact]\n",
    "exps3 = [impact]\n",
    "x = 1\n",
    "while(x < impact):\n",
    "    #exps.append(exps[len(exps)-1] - m.exp(1/x))\n",
    "    exps1.append(impact* m.exp(-1.5*x))\n",
    "    exps2.append(impact* m.exp(-1*x))\n",
    "    exps3.append(impact* m.exp(-0.5*x))\n",
    "    x = x+1\n",
    "exps\n",
    "\n",
    "plt.plot(exps1)\n",
    "plt.plot(exps2)\n",
    "plt.plot(exps3)\n",
    "\n",
    "plt.show()\n"
   ]
  },
  {
   "cell_type": "code",
   "execution_count": null,
   "id": "6df60b11",
   "metadata": {},
   "outputs": [],
   "source": []
  }
 ],
 "metadata": {
  "kernelspec": {
   "display_name": "Python 3 (ipykernel)",
   "language": "python",
   "name": "python3"
  },
  "language_info": {
   "codemirror_mode": {
    "name": "ipython",
    "version": 3
   },
   "file_extension": ".py",
   "mimetype": "text/x-python",
   "name": "python",
   "nbconvert_exporter": "python",
   "pygments_lexer": "ipython3",
   "version": "3.9.13"
  }
 },
 "nbformat": 4,
 "nbformat_minor": 5
}
